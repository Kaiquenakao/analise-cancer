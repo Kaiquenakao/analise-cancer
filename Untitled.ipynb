{
 "cells": [
  {
   "cell_type": "markdown",
   "id": "b7762e72-d186-435c-8f7f-9280d1ecac66",
   "metadata": {},
   "source": [
    "# Câncer de mama\n",
    "\n",
    "O câncer de mama é o mais incidente em mulheres no mundo, com aproximadamente 2,3 milhões de casos novos estimados em 2020, o que representa 24,5% dos casos novos por câncer em mulheres. É também a causa mais frequente de morte por câncer nessa população, com 684.996 óbitos estimados para esse ano (15,5% dos óbitos por câncer em mulheres) (IARC, 2020).\n",
    "\n",
    "No **Brasil**, o câncer de mama é também o tipo de câncer mais incidente em mulheres de todas as regiões, após o câncer de pele não melanoma. As taxas são mais elevadas nas regiões mais desenvolvidas (Sul e Sudeste) e a menor é observada na região Norte. Em 2022, estima-se que ocorrerão 66.280 casos novos da doença (INCA, 2020).\n",
    "\n",
    "<center>\n",
    "<img src=\"https://raw.githubusercontent.com/Kaiquenakao/analise-cancer/master/outubro-rosa.jpg?token=GHSAT0AAAAAABVAYDUCVJGHGHA2TV4IC5YSYVGAL7A\" height=\"100px\" width=\"300px\">\n",
    "</center>"
   ]
  },
  {
   "cell_type": "code",
   "execution_count": null,
   "id": "1fca600b-620c-478a-ab45-631b46df8955",
   "metadata": {},
   "outputs": [],
   "source": []
  }
 ],
 "metadata": {
  "kernelspec": {
   "display_name": "Python 3",
   "language": "python",
   "name": "python3"
  },
  "language_info": {
   "codemirror_mode": {
    "name": "ipython",
    "version": 3
   },
   "file_extension": ".py",
   "mimetype": "text/x-python",
   "name": "python",
   "nbconvert_exporter": "python",
   "pygments_lexer": "ipython3",
   "version": "3.9.4"
  }
 },
 "nbformat": 4,
 "nbformat_minor": 5
}
