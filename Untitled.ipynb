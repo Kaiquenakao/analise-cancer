{
 "cells": [
  {
   "cell_type": "markdown",
   "id": "b7762e72-d186-435c-8f7f-9280d1ecac66",
   "metadata": {},
   "source": [
    "# Câncer de mama\n",
    "\n",
    "O câncer de mama é o mais incidente em mulheres no mundo, com aproximadamente 2,3 milhões de mulheres diagnosticadas com câncer de mama e 685 mil mortes em todo o mundo. No final de 2020, teve 7,8 milhões de mulheres vivas diagnosticadas com câncer de mama nos últimos 5 anos, tornando-o o câncer mais prevalente do mundo.\n",
    "\n",
    "No **Brasil**, o câncer de mama é também o tipo de câncer mais incidente em mulheres de todas as regiões, após o câncer de pele não melanoma. As taxas são mais elevadas nas regiões mais desenvolvidas (Sul e Sudeste) e a menor é observada na região Norte. Em 2022, estima-se que ocorrerão 66.280 casos novos da doença (INCA, 2020).\n",
    "\n",
    "O câncer de mama é também a [primeira causa de morte por câncer em mulheres no Brasil](https://www.inca.gov.br/controle-do-cancer-de-mama/dados-e-numeros/mortalidade#:~:text=O%20c%C3%A2ncer%20de%20mama%20%C3%A9,do%20%C3%BAtero%20ocupa%20essa%20posi%C3%A7%C3%A3o.). A incidência e a mortalidade por câncer de mama tendem a crescer progressivamente a partir dos 40 anos (INCA, 2019).\n",
    "\n",
    "<center><img src=\"outubro-rosa.jpg\" height=\"100px\" width=\"300px\"></center>\n",
    "\n",
    "\n",
    "**Outubro rosa** é um movimento que é celebrado anualmente desde os anos 90. O objetivo da campanha é compartilhar informações sobre o câncer de mama, promovendo a conscientização sobre a doença, proporcionando maior acesso aos serviços de diagnóstico e contribuindo para a redução da mortalidade.\n",
    "\n",
    "O que eu trago neste artigo é que atráves dos preditores é possível de identificar a presença do cancêr de mama. É uma pequena contribuição que visa ajudar a entender a extensão desse problema no mundo, além de incentivar o Outubro Rosa dentro da comunidade Python e Data Science.\n",
    "\n",
    "### Referências\n",
    "\n",
    "INSTITUTO NACIONAL DE CÂNCER JOSÉ ALENCAR GOMES DA SILVA. **Atlas da mortalidade**. Rio de Janeiro: INCA, 2021. base de dados. Disponível em: https://www.inca.gov.br/app/mortalidade Acesso em: 12 jun 2022.\n",
    "\n",
    "INTERNATIONAL AGENCY FOR RESEARCH ON CANCER. **Cancer today**. Lyon: WHO, 2020. Disponível em: https://gco.iarc.fr/today/home Acesso em: 12 jun 2022."
   ]
  },
  {
   "cell_type": "markdown",
   "id": "b8499b74-c77f-4036-bf13-b08477d9bb0c",
   "metadata": {},
   "source": [
    "## Descrição dos dados sobre o câncer de mama\n",
    "\n",
    "O conjunto de dados (dataset) do câncer de mama que eu escolhi está hospedado na [UCI](https://archive.ics.uci.edu/ml/datasets/Breast+Cancer+Coimbra), e traz informações sobre os preditores. Existem 10 preditores, todos quantitativos, e uma variável dependente binária, indicando a presença ou ausência de câncer de mama. Os **preditores** são dados e parâmetros antropométricos que podem ser coletados em análises rotineiras de sangue."
   ]
  },
  {
   "cell_type": "markdown",
   "id": "6455792b-145c-4139-b39c-f538286dfba8",
   "metadata": {},
   "source": [
    "### Importações dos pacotes necessários"
   ]
  },
  {
   "cell_type": "code",
   "execution_count": 3,
   "id": "54c8d659-a8a8-4b4a-b302-ca6b8650290b",
   "metadata": {},
   "outputs": [],
   "source": [
    "import numpy as np\n",
    "import pandas as pd\n",
    "import matplotlib.pyplot as plt\n",
    "import seaborn as sns\n",
    "\n",
    "%matplotlib inline"
   ]
  },
  {
   "cell_type": "code",
   "execution_count": 4,
   "id": "fcb9f1ee-b4b2-4817-bc4f-8e24ffe999b5",
   "metadata": {},
   "outputs": [],
   "source": [
    "# importar os dados sobre câncer para um DataFrame\n",
    "dados = pd.read_csv(\"dataR2.csv\")"
   ]
  },
  {
   "cell_type": "markdown",
   "id": "3004ab63-5ce4-47c3-8962-e76fcc53d2e3",
   "metadata": {},
   "source": [
    "### Visualização"
   ]
  },
  {
   "cell_type": "code",
   "execution_count": 5,
   "id": "86133b43-969c-4edc-aa2b-48b49f52d740",
   "metadata": {},
   "outputs": [
    {
     "data": {
      "text/html": [
       "<div>\n",
       "<style scoped>\n",
       "    .dataframe tbody tr th:only-of-type {\n",
       "        vertical-align: middle;\n",
       "    }\n",
       "\n",
       "    .dataframe tbody tr th {\n",
       "        vertical-align: top;\n",
       "    }\n",
       "\n",
       "    .dataframe thead th {\n",
       "        text-align: right;\n",
       "    }\n",
       "</style>\n",
       "<table border=\"1\" class=\"dataframe\">\n",
       "  <thead>\n",
       "    <tr style=\"text-align: right;\">\n",
       "      <th></th>\n",
       "      <th>Age</th>\n",
       "      <th>BMI</th>\n",
       "      <th>Glucose</th>\n",
       "      <th>Insulin</th>\n",
       "      <th>HOMA</th>\n",
       "      <th>Leptin</th>\n",
       "      <th>Adiponectin</th>\n",
       "      <th>Resistin</th>\n",
       "      <th>MCP.1</th>\n",
       "      <th>Classification</th>\n",
       "    </tr>\n",
       "  </thead>\n",
       "  <tbody>\n",
       "    <tr>\n",
       "      <th>0</th>\n",
       "      <td>48</td>\n",
       "      <td>23.500000</td>\n",
       "      <td>70</td>\n",
       "      <td>2.707</td>\n",
       "      <td>0.467409</td>\n",
       "      <td>8.8071</td>\n",
       "      <td>9.702400</td>\n",
       "      <td>7.99585</td>\n",
       "      <td>417.114</td>\n",
       "      <td>1</td>\n",
       "    </tr>\n",
       "    <tr>\n",
       "      <th>1</th>\n",
       "      <td>83</td>\n",
       "      <td>20.690495</td>\n",
       "      <td>92</td>\n",
       "      <td>3.115</td>\n",
       "      <td>0.706897</td>\n",
       "      <td>8.8438</td>\n",
       "      <td>5.429285</td>\n",
       "      <td>4.06405</td>\n",
       "      <td>468.786</td>\n",
       "      <td>1</td>\n",
       "    </tr>\n",
       "    <tr>\n",
       "      <th>2</th>\n",
       "      <td>82</td>\n",
       "      <td>23.124670</td>\n",
       "      <td>91</td>\n",
       "      <td>4.498</td>\n",
       "      <td>1.009651</td>\n",
       "      <td>17.9393</td>\n",
       "      <td>22.432040</td>\n",
       "      <td>9.27715</td>\n",
       "      <td>554.697</td>\n",
       "      <td>1</td>\n",
       "    </tr>\n",
       "    <tr>\n",
       "      <th>3</th>\n",
       "      <td>68</td>\n",
       "      <td>21.367521</td>\n",
       "      <td>77</td>\n",
       "      <td>3.226</td>\n",
       "      <td>0.612725</td>\n",
       "      <td>9.8827</td>\n",
       "      <td>7.169560</td>\n",
       "      <td>12.76600</td>\n",
       "      <td>928.220</td>\n",
       "      <td>1</td>\n",
       "    </tr>\n",
       "    <tr>\n",
       "      <th>4</th>\n",
       "      <td>86</td>\n",
       "      <td>21.111111</td>\n",
       "      <td>92</td>\n",
       "      <td>3.549</td>\n",
       "      <td>0.805386</td>\n",
       "      <td>6.6994</td>\n",
       "      <td>4.819240</td>\n",
       "      <td>10.57635</td>\n",
       "      <td>773.920</td>\n",
       "      <td>1</td>\n",
       "    </tr>\n",
       "  </tbody>\n",
       "</table>\n",
       "</div>"
      ],
      "text/plain": [
       "   Age        BMI  Glucose  Insulin      HOMA   Leptin  Adiponectin  Resistin  \\\n",
       "0   48  23.500000       70    2.707  0.467409   8.8071     9.702400   7.99585   \n",
       "1   83  20.690495       92    3.115  0.706897   8.8438     5.429285   4.06405   \n",
       "2   82  23.124670       91    4.498  1.009651  17.9393    22.432040   9.27715   \n",
       "3   68  21.367521       77    3.226  0.612725   9.8827     7.169560  12.76600   \n",
       "4   86  21.111111       92    3.549  0.805386   6.6994     4.819240  10.57635   \n",
       "\n",
       "     MCP.1  Classification  \n",
       "0  417.114               1  \n",
       "1  468.786               1  \n",
       "2  554.697               1  \n",
       "3  928.220               1  \n",
       "4  773.920               1  "
      ]
     },
     "execution_count": 5,
     "metadata": {},
     "output_type": "execute_result"
    }
   ],
   "source": [
    "dados.head()"
   ]
  },
  {
   "cell_type": "markdown",
   "id": "1eb0844c-2815-4df9-a637-092e1dd63102",
   "metadata": {},
   "source": [
    "### Traduzindo as colunas"
   ]
  },
  {
   "cell_type": "code",
   "execution_count": 7,
   "id": "01406667-2c85-4a01-a720-6b7956c15fa9",
   "metadata": {},
   "outputs": [],
   "source": [
    "dados.rename(columns={\n",
    "    'Age': 'idade',\n",
    "    'BMI': 'imc',\n",
    "    'Glucose': 'glicose',\n",
    "    'Insulin': 'insulina',\n",
    "    'HOMA': 'homa',\n",
    "    'Leptin': 'leptina',\n",
    "    'Adiponectin': 'adiponectina',\n",
    "    'Resistin': 'resistina',\n",
    "    'MCP.1': 'mcp1',\n",
    "    'Classification': 'classificacao'\n",
    "}, inplace=True)"
   ]
  },
  {
   "cell_type": "markdown",
   "id": "ce064589-bc18-4b2c-b613-3e6540269b0d",
   "metadata": {},
   "source": [
    "## Dicionário de Variáveis\n",
    "Esse arquivo *csv* possui 10 colunas. Sendo elas:\n",
    "* **Idade**: faixa etária de 20 a 89 anos;\n",
    "* **IMC**: é um parâmetro utilizado para avaliar se o peso está dentro do valor ideal para a altura. (kg/m2);\n",
    "* **Glicose**: é um carboidrato considerado uma das principais fontes de energia. (mg/dL);\n",
    "* **Insulina**: é um hormônio produzido pelo pâncreas, e tem como função metabolizar a glicose (açúcar no sangue) para produção de energia. (µU/mL);\n",
    "* **HOMA**: é um método utilizado para quantificar a resistência à insulina e a função das células beta do pâncreas;\n",
    "* **Leptina**: é um petídeo que desempenha importante papel na regulação da ingestão alimentar e no gasto energético. (ng/mL);\n",
    "* **Adiponectina**: é uma proteína gene ADIPO. (µg/mL);\n",
    "* **Resistina**: hormônio produzido pelo tecido adiposo. (ng/mL);\n",
    "* **MCP-1**: é uma citocina quimiotática de baixo peso molecular. (pg/ dL).\n",
    "* **Classificação**:\n",
    "  * 1 = Controles saudáveis\n",
    "  * 2 = Paciente\n",
    "\n",
    "### Simbolos\n",
    "* **kg**: quilograma;\n",
    "* **m2**: metro ao quadrado;\n",
    "* **mg**: miligrama;\n",
    "* **dL**: decilitro;\n",
    "* **µU**: unidade Internacional;\n",
    "* **ml**: mililitro;\n",
    "* **ng**: nanograma;\n",
    "* **pg**: picograma."
   ]
  },
  {
   "cell_type": "markdown",
   "id": "a8019d55-3e4a-4da2-bf40-5dabbe0594de",
   "metadata": {},
   "source": []
  },
  {
   "cell_type": "code",
   "execution_count": null,
   "id": "62b43fd7-246a-4438-8f5b-0803beacc246",
   "metadata": {},
   "outputs": [],
   "source": []
  },
  {
   "cell_type": "code",
   "execution_count": null,
   "id": "40ab5ea0-41ec-4c7a-9e06-1fdb83b3a9ab",
   "metadata": {},
   "outputs": [],
   "source": []
  },
  {
   "cell_type": "code",
   "execution_count": null,
   "id": "c59befaa-3787-4899-b363-b931f783ad8b",
   "metadata": {},
   "outputs": [],
   "source": []
  }
 ],
 "metadata": {
  "kernelspec": {
   "display_name": "Python 3",
   "language": "python",
   "name": "python3"
  },
  "language_info": {
   "codemirror_mode": {
    "name": "ipython",
    "version": 3
   },
   "file_extension": ".py",
   "mimetype": "text/x-python",
   "name": "python",
   "nbconvert_exporter": "python",
   "pygments_lexer": "ipython3",
   "version": "3.9.4"
  }
 },
 "nbformat": 4,
 "nbformat_minor": 5
}
