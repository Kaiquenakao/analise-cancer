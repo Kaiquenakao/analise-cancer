{
 "cells": [
  {
   "cell_type": "markdown",
   "id": "b7762e72-d186-435c-8f7f-9280d1ecac66",
   "metadata": {},
   "source": [
    "# Câncer de mama\n",
    "\n",
    "O câncer de mama é o mais incidente em mulheres no mundo, com aproximadamente 2,3 milhões de mulheres diagnosticadas com câncer de mama e 685 mil mortes em todo o mundo. No final de 2020, teve 7,8 milhões de mulheres vivas diagnosticadas com câncer de mama nos últimos 5 anos, tornando-o o câncer mais prevalente do mundo.\n",
    "\n",
    "No **Brasil**, o câncer de mama é também o tipo de câncer mais incidente em mulheres de todas as regiões, após o câncer de pele não melanoma. As taxas são mais elevadas nas regiões mais desenvolvidas (Sul e Sudeste) e a menor é observada na região Norte. Em 2022, estima-se que ocorrerão 66.280 casos novos da doença (INCA, 2020).\n",
    "\n",
    "O câncer de mama é também a [primeira causa de morte por câncer em mulheres no Brasil](https://www.inca.gov.br/controle-do-cancer-de-mama/dados-e-numeros/mortalidade#:~:text=O%20c%C3%A2ncer%20de%20mama%20%C3%A9,do%20%C3%BAtero%20ocupa%20essa%20posi%C3%A7%C3%A3o.). A incidência e a mortalidade por câncer de mama tendem a crescer progressivamente a partir dos 40 anos (INCA, 2019).\n",
    "\n",
    "<center><img src=\"https://www.camarabracodotrombudo.sc.gov.br/media/noticia/outubro-rosa-o-mes-esta-terminando-mas-a-campanha-nao-35.jpg\" height=\"100px\" width=\"300px\"></center>\n",
    "\n",
    "\n",
    "**Outubro rosa** é um movimento que é celebrado anualmente desde os anos 90. O objetivo da campanha é compartilhar informações sobre o câncer de mama, promovendo a conscientização sobre a doença, proporcionando maior acesso aos serviços de diagnóstico e contribuindo para a redução da mortalidade.\n",
    "\n",
    "O que eu trago neste artigo é que atráves dos preditores é possível de identificar a presença do cancêr de mama. É uma pequena contribuição que visa ajudar a entender a extensão desse problema no mundo, além de incentivar o Outubro Rosa dentro da comunidade Python e Data Science.\n",
    "\n",
    "### Referências\n",
    "\n",
    "INSTITUTO NACIONAL DE CÂNCER JOSÉ ALENCAR GOMES DA SILVA. **Atlas da mortalidade**. Rio de Janeiro: INCA, 2021. base de dados. Disponível em: https://www.inca.gov.br/app/mortalidade Acesso em: 12 jun 2022.\n",
    "\n",
    "INTERNATIONAL AGENCY FOR RESEARCH ON CANCER. **Cancer today**. Lyon: WHO, 2020. Disponível em: https://gco.iarc.fr/today/home Acesso em: 12 jun 2022."
   ]
  },
  {
   "cell_type": "markdown",
   "id": "b8499b74-c77f-4036-bf13-b08477d9bb0c",
   "metadata": {},
   "source": [
    "## Descrição dos dados sobre o câncer de mama\n",
    "\n",
    "O conjunto de dados (dataset) do câncer de mama que eu escolhi está hospedado na [UCI](https://archive.ics.uci.edu/ml/datasets/Breast+Cancer+Coimbra), e traz informações sobre os preditores. Existem 10 preditores, todos quantitativos, e uma variável dependente binária, indicando a presença ou ausência de câncer de mama. Os **preditores** são dados e parâmetros antropométricos que podem ser coletados em análises rotineiras de sangue."
   ]
  },
  {
   "cell_type": "markdown",
   "id": "6455792b-145c-4139-b39c-f538286dfba8",
   "metadata": {},
   "source": [
    "### Importações dos pacotes necessários"
   ]
  },
  {
   "cell_type": "code",
   "execution_count": 155,
   "id": "54c8d659-a8a8-4b4a-b302-ca6b8650290b",
   "metadata": {},
   "outputs": [],
   "source": [
    "import numpy as np\n",
    "import pandas as pd\n",
    "import matplotlib.pyplot as plt\n",
    "import seaborn as sns\n",
    "\n",
    "%matplotlib inline"
   ]
  },
  {
   "cell_type": "code",
   "execution_count": 156,
   "id": "fcb9f1ee-b4b2-4817-bc4f-8e24ffe999b5",
   "metadata": {},
   "outputs": [],
   "source": [
    "# importar os dados sobre câncer para um DataFrame\n",
    "dados = pd.read_csv(\"dataR2.csv\")"
   ]
  },
  {
   "cell_type": "markdown",
   "id": "3004ab63-5ce4-47c3-8962-e76fcc53d2e3",
   "metadata": {},
   "source": [
    "### Exibição do DataFrame"
   ]
  },
  {
   "cell_type": "code",
   "execution_count": 157,
   "id": "86133b43-969c-4edc-aa2b-48b49f52d740",
   "metadata": {},
   "outputs": [
    {
     "name": "stdout",
     "output_type": "stream",
     "text": [
      "Formato do DataFrame:  (116, 10)\n"
     ]
    },
    {
     "data": {
      "text/html": [
       "<div>\n",
       "<style scoped>\n",
       "    .dataframe tbody tr th:only-of-type {\n",
       "        vertical-align: middle;\n",
       "    }\n",
       "\n",
       "    .dataframe tbody tr th {\n",
       "        vertical-align: top;\n",
       "    }\n",
       "\n",
       "    .dataframe thead th {\n",
       "        text-align: right;\n",
       "    }\n",
       "</style>\n",
       "<table border=\"1\" class=\"dataframe\">\n",
       "  <thead>\n",
       "    <tr style=\"text-align: right;\">\n",
       "      <th></th>\n",
       "      <th>Age</th>\n",
       "      <th>BMI</th>\n",
       "      <th>Glucose</th>\n",
       "      <th>Insulin</th>\n",
       "      <th>HOMA</th>\n",
       "      <th>Leptin</th>\n",
       "      <th>Adiponectin</th>\n",
       "      <th>Resistin</th>\n",
       "      <th>MCP.1</th>\n",
       "      <th>Classification</th>\n",
       "    </tr>\n",
       "  </thead>\n",
       "  <tbody>\n",
       "    <tr>\n",
       "      <th>0</th>\n",
       "      <td>48</td>\n",
       "      <td>23.500000</td>\n",
       "      <td>70</td>\n",
       "      <td>2.707</td>\n",
       "      <td>0.467409</td>\n",
       "      <td>8.8071</td>\n",
       "      <td>9.702400</td>\n",
       "      <td>7.99585</td>\n",
       "      <td>417.114</td>\n",
       "      <td>1</td>\n",
       "    </tr>\n",
       "    <tr>\n",
       "      <th>1</th>\n",
       "      <td>83</td>\n",
       "      <td>20.690495</td>\n",
       "      <td>92</td>\n",
       "      <td>3.115</td>\n",
       "      <td>0.706897</td>\n",
       "      <td>8.8438</td>\n",
       "      <td>5.429285</td>\n",
       "      <td>4.06405</td>\n",
       "      <td>468.786</td>\n",
       "      <td>1</td>\n",
       "    </tr>\n",
       "    <tr>\n",
       "      <th>2</th>\n",
       "      <td>82</td>\n",
       "      <td>23.124670</td>\n",
       "      <td>91</td>\n",
       "      <td>4.498</td>\n",
       "      <td>1.009651</td>\n",
       "      <td>17.9393</td>\n",
       "      <td>22.432040</td>\n",
       "      <td>9.27715</td>\n",
       "      <td>554.697</td>\n",
       "      <td>1</td>\n",
       "    </tr>\n",
       "    <tr>\n",
       "      <th>3</th>\n",
       "      <td>68</td>\n",
       "      <td>21.367521</td>\n",
       "      <td>77</td>\n",
       "      <td>3.226</td>\n",
       "      <td>0.612725</td>\n",
       "      <td>9.8827</td>\n",
       "      <td>7.169560</td>\n",
       "      <td>12.76600</td>\n",
       "      <td>928.220</td>\n",
       "      <td>1</td>\n",
       "    </tr>\n",
       "    <tr>\n",
       "      <th>4</th>\n",
       "      <td>86</td>\n",
       "      <td>21.111111</td>\n",
       "      <td>92</td>\n",
       "      <td>3.549</td>\n",
       "      <td>0.805386</td>\n",
       "      <td>6.6994</td>\n",
       "      <td>4.819240</td>\n",
       "      <td>10.57635</td>\n",
       "      <td>773.920</td>\n",
       "      <td>1</td>\n",
       "    </tr>\n",
       "  </tbody>\n",
       "</table>\n",
       "</div>"
      ],
      "text/plain": [
       "   Age        BMI  Glucose  Insulin      HOMA   Leptin  Adiponectin  Resistin  \\\n",
       "0   48  23.500000       70    2.707  0.467409   8.8071     9.702400   7.99585   \n",
       "1   83  20.690495       92    3.115  0.706897   8.8438     5.429285   4.06405   \n",
       "2   82  23.124670       91    4.498  1.009651  17.9393    22.432040   9.27715   \n",
       "3   68  21.367521       77    3.226  0.612725   9.8827     7.169560  12.76600   \n",
       "4   86  21.111111       92    3.549  0.805386   6.6994     4.819240  10.57635   \n",
       "\n",
       "     MCP.1  Classification  \n",
       "0  417.114               1  \n",
       "1  468.786               1  \n",
       "2  554.697               1  \n",
       "3  928.220               1  \n",
       "4  773.920               1  "
      ]
     },
     "execution_count": 157,
     "metadata": {},
     "output_type": "execute_result"
    }
   ],
   "source": [
    "# ver o formato do DataFrame\n",
    "print(\"Formato do DataFrame: \", dados.shape)\n",
    "\n",
    "# visualizar os 5 primeiros dados\n",
    "dados.head()"
   ]
  },
  {
   "cell_type": "markdown",
   "id": "1eb0844c-2815-4df9-a637-092e1dd63102",
   "metadata": {},
   "source": [
    "### Traduzindo as colunas"
   ]
  },
  {
   "cell_type": "code",
   "execution_count": 158,
   "id": "01406667-2c85-4a01-a720-6b7956c15fa9",
   "metadata": {},
   "outputs": [],
   "source": [
    "dados.rename(columns={\n",
    "    'Age': 'idade',\n",
    "    'BMI': 'imc',\n",
    "    'Glucose': 'glicose',\n",
    "    'Insulin': 'insulina',\n",
    "    'HOMA': 'homa',\n",
    "    'Leptin': 'leptina',\n",
    "    'Adiponectin': 'adiponectina',\n",
    "    'Resistin': 'resistina',\n",
    "    'MCP.1': 'mcp1',\n",
    "    'Classification': 'classificacao'\n",
    "}, inplace=True)"
   ]
  },
  {
   "cell_type": "markdown",
   "id": "ce064589-bc18-4b2c-b613-3e6540269b0d",
   "metadata": {},
   "source": [
    "## Dicionário de Variáveis\n",
    "Esse arquivo *csv* possui 10 colunas. Sendo elas:\n",
    "* **Idade**: faixa etária de 20 a 89 anos;\n",
    "* **IMC**: é um parâmetro utilizado para avaliar se o peso está dentro do valor ideal para a altura. (kg/m2);\n",
    "* **Glicose**: é um carboidrato considerado uma das principais fontes de energia. (mg/dL);\n",
    "* **Insulina**: é um hormônio produzido pelo pâncreas, e tem como função metabolizar a glicose (açúcar no sangue) para produção de energia. (µU/mL);\n",
    "* **HOMA**: é um método utilizado para quantificar a resistência à insulina e a função das células beta do pâncreas;\n",
    "* **Leptina**: é um petídeo que desempenha importante papel na regulação da ingestão alimentar e no gasto energético. (ng/mL);\n",
    "* **Adiponectina**: é uma proteína gene ADIPO. (µg/mL);\n",
    "* **Resistina**: hormônio produzido pelo tecido adiposo. (ng/mL);\n",
    "* **MCP-1**: é uma citocina quimiotática de baixo peso molecular. (pg/ dL).\n",
    "* **Classificação**:\n",
    "  * 1 = Controles saudáveis\n",
    "  * 2 = Paciente\n",
    "\n",
    "### Simbolos\n",
    "* **kg**: quilograma;\n",
    "* **m2**: metro ao quadrado;\n",
    "* **mg**: miligrama;\n",
    "* **dL**: decilitro;\n",
    "* **µU**: unidade Internacional;\n",
    "* **ml**: mililitro;\n",
    "* **μg**: micograma;\n",
    "* **ng**: nanograma;\n",
    "* **pg**: picograma."
   ]
  },
  {
   "cell_type": "markdown",
   "id": "a8019d55-3e4a-4da2-bf40-5dabbe0594de",
   "metadata": {},
   "source": []
  },
  {
   "cell_type": "markdown",
   "id": "7aabcd55-470a-4cdf-903f-71e5c91b1a4b",
   "metadata": {},
   "source": [
    "### Visualização"
   ]
  },
  {
   "cell_type": "code",
   "execution_count": 159,
   "id": "40ab5ea0-41ec-4c7a-9e06-1fdb83b3a9ab",
   "metadata": {},
   "outputs": [
    {
     "data": {
      "text/html": [
       "<div>\n",
       "<style scoped>\n",
       "    .dataframe tbody tr th:only-of-type {\n",
       "        vertical-align: middle;\n",
       "    }\n",
       "\n",
       "    .dataframe tbody tr th {\n",
       "        vertical-align: top;\n",
       "    }\n",
       "\n",
       "    .dataframe thead th {\n",
       "        text-align: right;\n",
       "    }\n",
       "</style>\n",
       "<table border=\"1\" class=\"dataframe\">\n",
       "  <thead>\n",
       "    <tr style=\"text-align: right;\">\n",
       "      <th></th>\n",
       "      <th>idade</th>\n",
       "      <th>imc</th>\n",
       "      <th>glicose</th>\n",
       "      <th>insulina</th>\n",
       "      <th>homa</th>\n",
       "      <th>leptina</th>\n",
       "      <th>adiponectina</th>\n",
       "      <th>resistina</th>\n",
       "      <th>mcp1</th>\n",
       "      <th>classificacao</th>\n",
       "    </tr>\n",
       "  </thead>\n",
       "  <tbody>\n",
       "    <tr>\n",
       "      <th>0</th>\n",
       "      <td>48</td>\n",
       "      <td>23.500000</td>\n",
       "      <td>70</td>\n",
       "      <td>2.707</td>\n",
       "      <td>0.467409</td>\n",
       "      <td>8.8071</td>\n",
       "      <td>9.702400</td>\n",
       "      <td>7.99585</td>\n",
       "      <td>417.114</td>\n",
       "      <td>1</td>\n",
       "    </tr>\n",
       "    <tr>\n",
       "      <th>1</th>\n",
       "      <td>83</td>\n",
       "      <td>20.690495</td>\n",
       "      <td>92</td>\n",
       "      <td>3.115</td>\n",
       "      <td>0.706897</td>\n",
       "      <td>8.8438</td>\n",
       "      <td>5.429285</td>\n",
       "      <td>4.06405</td>\n",
       "      <td>468.786</td>\n",
       "      <td>1</td>\n",
       "    </tr>\n",
       "    <tr>\n",
       "      <th>2</th>\n",
       "      <td>82</td>\n",
       "      <td>23.124670</td>\n",
       "      <td>91</td>\n",
       "      <td>4.498</td>\n",
       "      <td>1.009651</td>\n",
       "      <td>17.9393</td>\n",
       "      <td>22.432040</td>\n",
       "      <td>9.27715</td>\n",
       "      <td>554.697</td>\n",
       "      <td>1</td>\n",
       "    </tr>\n",
       "    <tr>\n",
       "      <th>3</th>\n",
       "      <td>68</td>\n",
       "      <td>21.367521</td>\n",
       "      <td>77</td>\n",
       "      <td>3.226</td>\n",
       "      <td>0.612725</td>\n",
       "      <td>9.8827</td>\n",
       "      <td>7.169560</td>\n",
       "      <td>12.76600</td>\n",
       "      <td>928.220</td>\n",
       "      <td>1</td>\n",
       "    </tr>\n",
       "    <tr>\n",
       "      <th>4</th>\n",
       "      <td>86</td>\n",
       "      <td>21.111111</td>\n",
       "      <td>92</td>\n",
       "      <td>3.549</td>\n",
       "      <td>0.805386</td>\n",
       "      <td>6.6994</td>\n",
       "      <td>4.819240</td>\n",
       "      <td>10.57635</td>\n",
       "      <td>773.920</td>\n",
       "      <td>1</td>\n",
       "    </tr>\n",
       "  </tbody>\n",
       "</table>\n",
       "</div>"
      ],
      "text/plain": [
       "   idade        imc  glicose  insulina      homa  leptina  adiponectina  \\\n",
       "0     48  23.500000       70     2.707  0.467409   8.8071      9.702400   \n",
       "1     83  20.690495       92     3.115  0.706897   8.8438      5.429285   \n",
       "2     82  23.124670       91     4.498  1.009651  17.9393     22.432040   \n",
       "3     68  21.367521       77     3.226  0.612725   9.8827      7.169560   \n",
       "4     86  21.111111       92     3.549  0.805386   6.6994      4.819240   \n",
       "\n",
       "   resistina     mcp1  classificacao  \n",
       "0    7.99585  417.114              1  \n",
       "1    4.06405  468.786              1  \n",
       "2    9.27715  554.697              1  \n",
       "3   12.76600  928.220              1  \n",
       "4   10.57635  773.920              1  "
      ]
     },
     "execution_count": 159,
     "metadata": {},
     "output_type": "execute_result"
    }
   ],
   "source": [
    "# visualizar os 5 primeiros dados\n",
    "dados.head()"
   ]
  },
  {
   "cell_type": "markdown",
   "id": "21601a74-4c67-4571-bf89-be47873fa4d0",
   "metadata": {},
   "source": [
    "### Informações do DataFrame"
   ]
  },
  {
   "cell_type": "code",
   "execution_count": 160,
   "id": "8dfe95f9-a52e-4e04-b153-42021adf6fbf",
   "metadata": {},
   "outputs": [
    {
     "name": "stdout",
     "output_type": "stream",
     "text": [
      "<class 'pandas.core.frame.DataFrame'>\n",
      "RangeIndex: 116 entries, 0 to 115\n",
      "Data columns (total 10 columns):\n",
      " #   Column         Non-Null Count  Dtype  \n",
      "---  ------         --------------  -----  \n",
      " 0   idade          116 non-null    int64  \n",
      " 1   imc            116 non-null    float64\n",
      " 2   glicose        116 non-null    int64  \n",
      " 3   insulina       116 non-null    float64\n",
      " 4   homa           116 non-null    float64\n",
      " 5   leptina        116 non-null    float64\n",
      " 6   adiponectina   116 non-null    float64\n",
      " 7   resistina      116 non-null    float64\n",
      " 8   mcp1           116 non-null    float64\n",
      " 9   classificacao  116 non-null    int64  \n",
      "dtypes: float64(7), int64(3)\n",
      "memory usage: 9.2 KB\n"
     ]
    }
   ],
   "source": [
    "# exibir as informações\n",
    "dados.info()"
   ]
  },
  {
   "cell_type": "markdown",
   "id": "2c93dc31-2c81-4eaf-8cdc-904a77f72b22",
   "metadata": {},
   "source": [
    "### Descrição"
   ]
  },
  {
   "cell_type": "code",
   "execution_count": 161,
   "id": "4385a557-c922-4a12-b549-cebd1ca590b4",
   "metadata": {},
   "outputs": [
    {
     "data": {
      "text/html": [
       "<div>\n",
       "<style scoped>\n",
       "    .dataframe tbody tr th:only-of-type {\n",
       "        vertical-align: middle;\n",
       "    }\n",
       "\n",
       "    .dataframe tbody tr th {\n",
       "        vertical-align: top;\n",
       "    }\n",
       "\n",
       "    .dataframe thead th {\n",
       "        text-align: right;\n",
       "    }\n",
       "</style>\n",
       "<table border=\"1\" class=\"dataframe\">\n",
       "  <thead>\n",
       "    <tr style=\"text-align: right;\">\n",
       "      <th></th>\n",
       "      <th>idade</th>\n",
       "      <th>imc</th>\n",
       "      <th>glicose</th>\n",
       "      <th>insulina</th>\n",
       "      <th>homa</th>\n",
       "      <th>leptina</th>\n",
       "      <th>adiponectina</th>\n",
       "      <th>resistina</th>\n",
       "      <th>mcp1</th>\n",
       "      <th>classificacao</th>\n",
       "    </tr>\n",
       "  </thead>\n",
       "  <tbody>\n",
       "    <tr>\n",
       "      <th>count</th>\n",
       "      <td>116.000000</td>\n",
       "      <td>116.000000</td>\n",
       "      <td>116.000000</td>\n",
       "      <td>116.000000</td>\n",
       "      <td>116.000000</td>\n",
       "      <td>116.000000</td>\n",
       "      <td>116.000000</td>\n",
       "      <td>116.000000</td>\n",
       "      <td>116.000000</td>\n",
       "      <td>116.000000</td>\n",
       "    </tr>\n",
       "    <tr>\n",
       "      <th>mean</th>\n",
       "      <td>57.301724</td>\n",
       "      <td>27.582111</td>\n",
       "      <td>97.793103</td>\n",
       "      <td>10.012086</td>\n",
       "      <td>2.694988</td>\n",
       "      <td>26.615080</td>\n",
       "      <td>10.180874</td>\n",
       "      <td>14.725966</td>\n",
       "      <td>534.647000</td>\n",
       "      <td>1.551724</td>\n",
       "    </tr>\n",
       "    <tr>\n",
       "      <th>std</th>\n",
       "      <td>16.112766</td>\n",
       "      <td>5.020136</td>\n",
       "      <td>22.525162</td>\n",
       "      <td>10.067768</td>\n",
       "      <td>3.642043</td>\n",
       "      <td>19.183294</td>\n",
       "      <td>6.843341</td>\n",
       "      <td>12.390646</td>\n",
       "      <td>345.912663</td>\n",
       "      <td>0.499475</td>\n",
       "    </tr>\n",
       "    <tr>\n",
       "      <th>min</th>\n",
       "      <td>24.000000</td>\n",
       "      <td>18.370000</td>\n",
       "      <td>60.000000</td>\n",
       "      <td>2.432000</td>\n",
       "      <td>0.467409</td>\n",
       "      <td>4.311000</td>\n",
       "      <td>1.656020</td>\n",
       "      <td>3.210000</td>\n",
       "      <td>45.843000</td>\n",
       "      <td>1.000000</td>\n",
       "    </tr>\n",
       "    <tr>\n",
       "      <th>25%</th>\n",
       "      <td>45.000000</td>\n",
       "      <td>22.973205</td>\n",
       "      <td>85.750000</td>\n",
       "      <td>4.359250</td>\n",
       "      <td>0.917966</td>\n",
       "      <td>12.313675</td>\n",
       "      <td>5.474283</td>\n",
       "      <td>6.881763</td>\n",
       "      <td>269.978250</td>\n",
       "      <td>1.000000</td>\n",
       "    </tr>\n",
       "    <tr>\n",
       "      <th>50%</th>\n",
       "      <td>56.000000</td>\n",
       "      <td>27.662416</td>\n",
       "      <td>92.000000</td>\n",
       "      <td>5.924500</td>\n",
       "      <td>1.380939</td>\n",
       "      <td>20.271000</td>\n",
       "      <td>8.352692</td>\n",
       "      <td>10.827740</td>\n",
       "      <td>471.322500</td>\n",
       "      <td>2.000000</td>\n",
       "    </tr>\n",
       "    <tr>\n",
       "      <th>75%</th>\n",
       "      <td>71.000000</td>\n",
       "      <td>31.241442</td>\n",
       "      <td>102.000000</td>\n",
       "      <td>11.189250</td>\n",
       "      <td>2.857787</td>\n",
       "      <td>37.378300</td>\n",
       "      <td>11.815970</td>\n",
       "      <td>17.755207</td>\n",
       "      <td>700.085000</td>\n",
       "      <td>2.000000</td>\n",
       "    </tr>\n",
       "    <tr>\n",
       "      <th>max</th>\n",
       "      <td>89.000000</td>\n",
       "      <td>38.578759</td>\n",
       "      <td>201.000000</td>\n",
       "      <td>58.460000</td>\n",
       "      <td>25.050342</td>\n",
       "      <td>90.280000</td>\n",
       "      <td>38.040000</td>\n",
       "      <td>82.100000</td>\n",
       "      <td>1698.440000</td>\n",
       "      <td>2.000000</td>\n",
       "    </tr>\n",
       "  </tbody>\n",
       "</table>\n",
       "</div>"
      ],
      "text/plain": [
       "            idade         imc     glicose    insulina        homa     leptina  \\\n",
       "count  116.000000  116.000000  116.000000  116.000000  116.000000  116.000000   \n",
       "mean    57.301724   27.582111   97.793103   10.012086    2.694988   26.615080   \n",
       "std     16.112766    5.020136   22.525162   10.067768    3.642043   19.183294   \n",
       "min     24.000000   18.370000   60.000000    2.432000    0.467409    4.311000   \n",
       "25%     45.000000   22.973205   85.750000    4.359250    0.917966   12.313675   \n",
       "50%     56.000000   27.662416   92.000000    5.924500    1.380939   20.271000   \n",
       "75%     71.000000   31.241442  102.000000   11.189250    2.857787   37.378300   \n",
       "max     89.000000   38.578759  201.000000   58.460000   25.050342   90.280000   \n",
       "\n",
       "       adiponectina   resistina         mcp1  classificacao  \n",
       "count    116.000000  116.000000   116.000000     116.000000  \n",
       "mean      10.180874   14.725966   534.647000       1.551724  \n",
       "std        6.843341   12.390646   345.912663       0.499475  \n",
       "min        1.656020    3.210000    45.843000       1.000000  \n",
       "25%        5.474283    6.881763   269.978250       1.000000  \n",
       "50%        8.352692   10.827740   471.322500       2.000000  \n",
       "75%       11.815970   17.755207   700.085000       2.000000  \n",
       "max       38.040000   82.100000  1698.440000       2.000000  "
      ]
     },
     "execution_count": 161,
     "metadata": {},
     "output_type": "execute_result"
    }
   ],
   "source": [
    "# visualizar a descrição\n",
    "dados.describe()"
   ]
  },
  {
   "cell_type": "markdown",
   "id": "c60b5b21-f86b-424f-a957-d0ed0499d223",
   "metadata": {},
   "source": [
    "### Verificando se há valores nulos"
   ]
  },
  {
   "cell_type": "code",
   "execution_count": 162,
   "id": "957de228-d64a-4728-8b73-d3f5d2b4469c",
   "metadata": {},
   "outputs": [
    {
     "data": {
      "text/plain": [
       "idade            0\n",
       "imc              0\n",
       "glicose          0\n",
       "insulina         0\n",
       "homa             0\n",
       "leptina          0\n",
       "adiponectina     0\n",
       "resistina        0\n",
       "mcp1             0\n",
       "classificacao    0\n",
       "dtype: int64"
      ]
     },
     "execution_count": 162,
     "metadata": {},
     "output_type": "execute_result"
    }
   ],
   "source": [
    "# verificar se há valores nulos (inexistentes) nos dados\n",
    "dados.isnull().sum()"
   ]
  },
  {
   "cell_type": "markdown",
   "id": "d3ceadab-506d-447d-b18e-33c2cbede267",
   "metadata": {},
   "source": [
    "### Exibição do gráfico de diagnosticado e não diagnosticado"
   ]
  },
  {
   "cell_type": "code",
   "execution_count": 163,
   "id": "ccb3a432-3c26-42bd-8df9-715ec7d54ef6",
   "metadata": {},
   "outputs": [
    {
     "data": {
      "image/png": "[encoded data removed]",
      "text/plain": [
       "<Figure size 720x360 with 1 Axes>"
      ]
     },
     "metadata": {
      "needs_background": "light"
     },
     "output_type": "display_data"
    }
   ],
   "source": [
    "plt.figure(figsize=(10, 5))\n",
    "\n",
    "sns.countplot(data=dados, x='classificacao')\n",
    "plt.xlabel('Classificação')\n",
    "plt.ylabel('Quantidade')\n",
    "plt.xlabel('Não diagnosticado (1) vs Diagnosticado (2)')\n",
    "plt.title('Distribuição');"
   ]
  },
  {
   "cell_type": "markdown",
   "id": "4edba94c-5cd6-403d-8d39-46c014dd3f18",
   "metadata": {},
   "source": [
    "### Idade dos pacientes"
   ]
  },
  {
   "cell_type": "code",
   "execution_count": 173,
   "id": "479bdd7f-3589-4402-9049-dcbc861af4f4",
   "metadata": {},
   "outputs": [
    {
     "data": {
      "image/png": "[encoded data removed]",
      "text/plain": [
       "<Figure size 720x360 with 1 Axes>"
      ]
     },
     "metadata": {
      "needs_background": "light"
     },
     "output_type": "display_data"
    }
   ],
   "source": [
    "# alterando o tamanho da figura\n",
    "plt.figure(figsize=(10, 5))\n",
    "\n",
    "# gerando o boxplot\n",
    "sns.boxplot(data=dados, x='classificacao', y='idade')\n",
    "plt.xlabel('Classificação')\n",
    "plt.title('Idade dos pacientes diagnosticados e não diagnosticados');"
   ]
  },
  {
   "cell_type": "markdown",
   "id": "5292d7cb-8c64-4af8-9360-8bf2a0b14e27",
   "metadata": {},
   "source": [
    "### Gráfico normalizado da glicose"
   ]
  },
  {
   "cell_type": "code",
   "execution_count": 177,
   "id": "3acb078b-d930-49ed-956c-143148a15ac6",
   "metadata": {},
   "outputs": [
    {
     "data": {
      "image/png": "[encoded data removed]",
      "text/plain": [
       "<Figure size 432x288 with 1 Axes>"
      ]
     },
     "metadata": {
      "needs_background": "light"
     },
     "output_type": "display_data"
    }
   ],
   "source": [
    "# color palette\n",
    "pal = sns.color_palette(\"Set2\")\n",
    "\n",
    "# alterando o tamanho do bins para 10\n",
    "bins = np.linspace(0,170,7)\n",
    "\n",
    "# criando nova coluna em dados com categorias bin por recurso\n",
    "dados['glicose_intervalo'] = pd.cut(dados['glicose'], bins)\n",
    "\n",
    "# criando uma variável de gráfico de barras empilhadas de crosstab\n",
    "chart = pd.crosstab(dados['glicose_intervalo'],dados['classificacao'])\n",
    "\n",
    "# gráfico de normalização e gráfico de plotagem\n",
    "chart.div(chart.sum(1).astype(float), axis=0).plot(kind='bar', color = pal,stacked=True)\n",
    "plt.xlabel('Bins')\n",
    "plt.ylabel('Quantidade')\n",
    "plt.title('Gráfico de barras empilhado normalizado: Glicose vs Classificação');"
   ]
  },
  {
   "cell_type": "markdown",
   "id": "d9395e26-7507-499a-b200-5c5a4e9fbac1",
   "metadata": {},
   "source": [
    "A porcentagem de pacientes com câncer aumenta de acordo com o nível de glicose no sangue. Essa mudança está perceptivel se compararmos a primeira barra com a última barra. Se olharmos para última barra vermos que o intervalo do nível de glicose de **141 a 170** mostra que **100%** dos pacientes que se encontram nessa categoria estão com câncer, sendo diferente da primeira barra que mostra uma presença de apenas **22%** dos pacientes com câncer."
   ]
  },
  {
   "cell_type": "markdown",
   "id": "fee9a95b-74e4-477d-a009-383a676fb36a",
   "metadata": {},
   "source": [
    "# Testando o modelo\n",
    "Dividindo os dados de amostra em treinamento e teste para testar os resultados de regressão."
   ]
  },
  {
   "cell_type": "code",
   "execution_count": 199,
   "id": "443139c1-bcff-4c3c-98f9-d1d517859d87",
   "metadata": {},
   "outputs": [
    {
     "name": "stdout",
     "output_type": "stream",
     "text": [
      "The accuracy is: 62.857142857142854%\n"
     ]
    }
   ],
   "source": [
    "from sklearn.model_selection import train_test_split\n",
    "from sklearn.linear_model import LinearRegression\n",
    "from sklearn import metrics\n",
    "\n",
    "# redefinindo colunas\n",
    "X= dados[['imc', 'glicose', 'insulina', 'homa', 'leptina', 'adiponectina', 'resistina', 'mcp1']]\n",
    "y = dados['classificacao']\n",
    "\n",
    "# dividindo em treinamento(70%) e teste(30%)\n",
    "X_train, X_test, y_train, y_test = train_test_split(X, y, test_size=0.3, random_state=0)\n",
    "\n",
    "# executando nova regressão nos dados de treinamento\n",
    "LR = LinearRegression()\n",
    "LR.fit(X_train, y_train)\n",
    "\n",
    "# calculando a precisão do modelo de treinamento\n",
    "accuracy = logreg.score(X_test, y_test)\n",
    "print('The accuracy is: ' + str(accuracy *100) + '%');"
   ]
  },
  {
   "cell_type": "code",
   "execution_count": null,
   "id": "0da37fed-aada-44ee-b0c0-0bf7a4ab3b09",
   "metadata": {},
   "outputs": [],
   "source": []
  }
 ],
 "metadata": {
  "kernelspec": {
   "display_name": "Python 3 (ipykernel)",
   "language": "python",
   "name": "python3"
  },
  "language_info": {
   "codemirror_mode": {
    "name": "ipython",
    "version": 3
   },
   "file_extension": ".py",
   "mimetype": "text/x-python",
   "name": "python",
   "nbconvert_exporter": "python",
   "pygments_lexer": "ipython3",
   "version": "3.10.5"
  }
 },
 "nbformat": 4,
 "nbformat_minor": 5
}
