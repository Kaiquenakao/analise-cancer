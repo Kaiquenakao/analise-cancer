{
 "cells": [
  {
   "cell_type": "markdown",
   "id": "51cb89e0-5b47-4ab1-bf1c-d0ae6b727a3b",
   "metadata": {},
   "source": [
    "# Análise câncer de mama\n",
    "\n",
    "O câncer de mama é o mais incidente em mulheres no mundo, com aproximadamente 2,3 milhões de casos novos estimados em 2020, o que representa 24,5% dos casos novos por câncer em mulheres. É também a causa mais frequente de morte por câncer nessa população, com 684.996 óbitos estimados para esse ano (15,5% dos óbitos por câncer em mulheres) (IARC, 2020).\n",
    "\n",
    "No Brasil, o câncer de mama é também o tipo de câncer mais incidente em mulheres de todas as regiões, após o câncer de pele não melanoma. As taxas são mais elevadas nas regiões mais desenvolvidas (Sul e Sudeste) e a menor é observada na região Norte. Em 2022, estima-se que ocorrerão 66.280 casos novos da doença (INCA, 2020).\n",
    "\n",
    "\n",
    "\n",
    "\n",
    "\n",
    "\n"
   ]
  },
  {
   "cell_type": "code",
   "execution_count": null,
   "id": "40cb8604-21ef-4e62-9251-152514a07e65",
   "metadata": {},
   "outputs": [],
   "source": []
  },
  {
   "cell_type": "code",
   "execution_count": null,
   "id": "f1be3fea-d37f-4b9e-ae1e-b2e5f5e7b820",
   "metadata": {},
   "outputs": [],
   "source": []
  }
 ],
 "metadata": {
  "kernelspec": {
   "display_name": "Python 3",
   "language": "python",
   "name": "python3"
  },
  "language_info": {
   "codemirror_mode": {
    "name": "ipython",
    "version": 3
   },
   "file_extension": ".py",
   "mimetype": "text/x-python",
   "name": "python",
   "nbconvert_exporter": "python",
   "pygments_lexer": "ipython3",
   "version": "3.9.4"
  }
 },
 "nbformat": 4,
 "nbformat_minor": 5
}
